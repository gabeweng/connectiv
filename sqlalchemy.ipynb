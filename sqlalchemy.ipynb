{
 "cells": [
  {
   "cell_type": "code",
   "execution_count": 33,
   "id": "e6537622-6a0c-43d1-97ba-aeeba2d3a993",
   "metadata": {},
   "outputs": [
    {
     "data": {
      "text/plain": [
       "True"
      ]
     },
     "execution_count": 33,
     "metadata": {},
     "output_type": "execute_result"
    }
   ],
   "source": [
    "import sqlalchemy\n",
    "from dotenv import dotenv_values\n",
    "import os\n",
    "from dotenv import load_dotenv, find_dotenv\n",
    "\n",
    "load_dotenv(find_dotenv())"
   ]
  },
  {
   "cell_type": "code",
   "execution_count": 8,
   "id": "f9f61a49-27bb-406d-aeb4-80b6b8dd7b0e",
   "metadata": {},
   "outputs": [],
   "source": [
    "SECRET_KEY = os.environ.get(\"COCKROACHLABS_PASS\")"
   ]
  },
  {
   "cell_type": "code",
   "execution_count": 9,
   "id": "e918d7b7-8ff0-41fa-97e9-adadf2016509",
   "metadata": {},
   "outputs": [],
   "source": [
    "# import necessary packages\n",
    "import pandas as pd\n",
    "import psycopg2\n",
    "from sqlalchemy import create_engine\n",
    "  \n",
    "# establish connection with the database\n",
    "engine = create_engine(\"cockroachdb://\"+SECRET_KEY+\"@hollow-buffalo-4648.g8z.cockroachlabs.cloud:26257/defaultdb\")"
   ]
  },
  {
   "cell_type": "code",
   "execution_count": 4,
   "id": "6bc64a2b-132e-4e78-aef9-184d484dbff0",
   "metadata": {},
   "outputs": [],
   "source": [
    "from sqlalchemy import MetaData, Table, Column, Integer, String\n",
    "\n",
    "meta = MetaData()\n",
    "\n",
    "students = Table(\n",
    "   'students', meta, \n",
    "   Column('id', Integer, primary_key = True), \n",
    "   Column('name', String), \n",
    "   Column('lastname', String),\n",
    ")\n",
    "meta.create_all(engine)"
   ]
  },
  {
   "cell_type": "code",
   "execution_count": 21,
   "id": "dd667636-74c9-4235-89ab-905d73689cf3",
   "metadata": {},
   "outputs": [],
   "source": [
    "with engine.connect() as conn:\n",
    "    result = conn.execute(insert(students), [{\"name\":\"Darren\", \"lastname\":\"Weng\"},{\"name\":\"Gabe\", \"lastname\":\"Weng\"}, {\"name\":\"Julian\", \"lastname\":\"Weng\"}])\n",
    "    conn.commit()"
   ]
  },
  {
   "cell_type": "code",
   "execution_count": 30,
   "id": "6b75e34f-465a-459a-a591-5e4419a173c0",
   "metadata": {},
   "outputs": [
    {
     "data": {
      "text/html": [
       "<div>\n",
       "<style scoped>\n",
       "    .dataframe tbody tr th:only-of-type {\n",
       "        vertical-align: middle;\n",
       "    }\n",
       "\n",
       "    .dataframe tbody tr th {\n",
       "        vertical-align: top;\n",
       "    }\n",
       "\n",
       "    .dataframe thead th {\n",
       "        text-align: right;\n",
       "    }\n",
       "</style>\n",
       "<table border=\"1\" class=\"dataframe\">\n",
       "  <thead>\n",
       "    <tr style=\"text-align: right;\">\n",
       "      <th></th>\n",
       "      <th>id</th>\n",
       "      <th>name</th>\n",
       "      <th>lastname</th>\n",
       "    </tr>\n",
       "  </thead>\n",
       "  <tbody>\n",
       "    <tr>\n",
       "      <th>0</th>\n",
       "      <td>884479205530009601</td>\n",
       "      <td>Darren</td>\n",
       "      <td>Weng</td>\n",
       "    </tr>\n",
       "    <tr>\n",
       "      <th>1</th>\n",
       "      <td>884481281161953281</td>\n",
       "      <td>Gabe</td>\n",
       "      <td>Weng</td>\n",
       "    </tr>\n",
       "    <tr>\n",
       "      <th>2</th>\n",
       "      <td>884481281162084353</td>\n",
       "      <td>Julian</td>\n",
       "      <td>Weng</td>\n",
       "    </tr>\n",
       "  </tbody>\n",
       "</table>\n",
       "</div>"
      ],
      "text/plain": [
       "                   id    name lastname\n",
       "0  884479205530009601  Darren     Weng\n",
       "1  884481281161953281    Gabe     Weng\n",
       "2  884481281162084353  Julian     Weng"
      ]
     },
     "execution_count": 30,
     "metadata": {},
     "output_type": "execute_result"
    }
   ],
   "source": [
    "res = pd.read_sql_table(\"students\",con=engine)\n",
    "res"
   ]
  },
  {
   "cell_type": "code",
   "execution_count": 32,
   "id": "b583fc96-eb2b-4ed1-9a97-ed3d0b7a8a3a",
   "metadata": {},
   "outputs": [
    {
     "data": {
      "text/plain": [
       "884479205530009601"
      ]
     },
     "execution_count": 32,
     "metadata": {},
     "output_type": "execute_result"
    }
   ],
   "source": [
    "res['id'][0]"
   ]
  },
  {
   "cell_type": "code",
   "execution_count": 27,
   "id": "71f04a03-19eb-45e2-8cc6-cc5b19d5027f",
   "metadata": {},
   "outputs": [],
   "source": [
    "from sqlalchemy import delete\n",
    "\n",
    "stmt = delete(students).where(students.c.id == \t884482055409958913)\n",
    "with engine.connect() as conn:\n",
    "    result = conn.execute(stmt)\n",
    "    conn.commit()"
   ]
  },
  {
   "cell_type": "code",
   "execution_count": null,
   "id": "6206e8d6-46bd-4ae1-83c4-8c7537a2f695",
   "metadata": {},
   "outputs": [],
   "source": []
  }
 ],
 "metadata": {
  "kernelspec": {
   "display_name": "Python 3 (ipykernel)",
   "language": "python",
   "name": "python3"
  },
  "language_info": {
   "codemirror_mode": {
    "name": "ipython",
    "version": 3
   },
   "file_extension": ".py",
   "mimetype": "text/x-python",
   "name": "python",
   "nbconvert_exporter": "python",
   "pygments_lexer": "ipython3",
   "version": "3.10.6"
  }
 },
 "nbformat": 4,
 "nbformat_minor": 5
}
